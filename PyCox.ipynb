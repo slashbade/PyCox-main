{
 "cells": [
  {
   "cell_type": "markdown",
   "metadata": {},
   "source": [
    "# PyCox as Module"
   ]
  },
  {
   "cell_type": "code",
   "execution_count": 2,
   "metadata": {},
   "outputs": [],
   "source": [
    "import numpy as np\n",
    "from chv1r6180 import *\n",
    "import json"
   ]
  },
  {
   "cell_type": "markdown",
   "metadata": {},
   "source": [
    "Weyl 群基本操作"
   ]
  },
  {
   "cell_type": "code",
   "execution_count": 3,
   "metadata": {},
   "outputs": [
    {
     "name": "stdout",
     "output_type": "stream",
     "text": [
      "Group Order: 720\n",
      "Cartan Matrix: \n",
      " [[ 2 -1  0  0  0]\n",
      " [-1  2 -1  0  0]\n",
      " [ 0 -1  2 -1  0]\n",
      " [ 0  0 -1  2 -1]\n",
      " [ 0  0  0 -1  2]]\n",
      "roots: \n",
      " [(1, 0, 0, 0, 0), (0, 1, 0, 0, 0), (0, 0, 1, 0, 0), (0, 0, 0, 1, 0), (0, 0, 0, 0, 1), (1, 1, 0, 0, 0), (0, 1, 1, 0, 0), (0, 0, 1, 1, 0), (0, 0, 0, 1, 1), (1, 1, 1, 0, 0), (0, 1, 1, 1, 0), (0, 0, 1, 1, 1), (1, 1, 1, 1, 0), (0, 1, 1, 1, 1), (1, 1, 1, 1, 1), (-1, 0, 0, 0, 0), (0, -1, 0, 0, 0), (0, 0, -1, 0, 0), (0, 0, 0, -1, 0), (0, 0, 0, 0, -1), (-1, -1, 0, 0, 0), (0, -1, -1, 0, 0), (0, 0, -1, -1, 0), (0, 0, 0, -1, -1), (-1, -1, -1, 0, 0), (0, -1, -1, -1, 0), (0, 0, -1, -1, -1), (-1, -1, -1, -1, 0), (0, -1, -1, -1, -1), (-1, -1, -1, -1, -1)]\n"
     ]
    }
   ],
   "source": [
    "W = coxeter(\"A\", 5)\n",
    "print('Group Order:', W.order)\n",
    "print('Cartan Matrix: \\n', np.array(W.cartan))\n",
    "print('roots: \\n', W.roots)"
   ]
  },
  {
   "cell_type": "markdown",
   "metadata": {},
   "source": [
    "## Left cell equivalence"
   ]
  },
  {
   "cell_type": "markdown",
   "metadata": {},
   "source": [
    "以 F4 为例，找到 Left cell 划分"
   ]
  },
  {
   "cell_type": "code",
   "execution_count": 4,
   "metadata": {},
   "outputs": [
    {
     "name": "stdout",
     "output_type": "stream",
     "text": [
      "Partition Numbers: 72\n"
     ]
    }
   ],
   "source": [
    "W = coxeter(\"F\", 4)\n",
    "klcells_info = klcells(W, 1, v)\n",
    "print('Partition Numbers:', len(klcells_info[0]))\n",
    "#print(klcells_info[0])"
   ]
  },
  {
   "cell_type": "markdown",
   "metadata": {},
   "source": [
    "确定其中一个 left cell (第 60 个)，输出 left cell 中所有元素"
   ]
  },
  {
   "cell_type": "code",
   "execution_count": 5,
   "metadata": {},
   "outputs": [
    {
     "name": "stdout",
     "output_type": "stream",
     "text": [
      "Length: 9\n",
      "[[1, 3, 2, 1], [0, 1, 3, 2, 1], [2, 1, 3, 2, 1], [0, 2, 1, 3, 2, 1], [1, 2, 1, 3, 2, 1], [1, 0, 2, 1, 3, 2, 1], [0, 1, 2, 1, 3, 2, 1], [2, 1, 0, 2, 1, 3, 2, 1], [3, 2, 1, 0, 2, 1, 3, 2, 1]]\n"
     ]
    }
   ],
   "source": [
    "elm_list = klcells_info[0][60]\n",
    "print('Length:', len(elm_list))\n",
    "print(elm_list)"
   ]
  },
  {
   "cell_type": "markdown",
   "metadata": {},
   "source": [
    "以该 left cell 中第一个群元为例， klcellrepelm 输出该群元所在 left cell 信息"
   ]
  },
  {
   "cell_type": "code",
   "execution_count": 6,
   "metadata": {},
   "outputs": [
    {
     "name": "stdout",
     "output_type": "stream",
     "text": [
      "{'size': 9, 'character': [['9_1', 1]], 'a': 2, 'special': '9_1', 'index': 22, 'elms': False, 'distinv': False}\n"
     ]
    }
   ],
   "source": [
    "print(klcellrepelm(W, [1, 3, 2, 1]))"
   ]
  },
  {
   "cell_type": "markdown",
   "metadata": {},
   "source": [
    "用 left cell 找到 left cell 所有元素"
   ]
  },
  {
   "cell_type": "code",
   "execution_count": 7,
   "metadata": {},
   "outputs": [
    {
     "name": "stdout",
     "output_type": "stream",
     "text": [
      "{(37, 22, 36, 2), (13, 32, 12, 33), (46, 13, 3, 2), (13, 15, 36, 2), (15, 46, 16, 2), (15, 4, 40, 18), (37, 4, 12, 33), (22, 39, 3, 2), (15, 4, 2, 42)}\n"
     ]
    }
   ],
   "source": [
    "elms = leftcellelm(W, [1, 3, 2, 1])['elms']\n",
    "print(elms)"
   ]
  },
  {
   "cell_type": "markdown",
   "metadata": {},
   "source": [
    "转换为置换形式"
   ]
  },
  {
   "cell_type": "code",
   "execution_count": 8,
   "metadata": {},
   "outputs": [
    {
     "name": "stdout",
     "output_type": "stream",
     "text": [
      "[0, 2, 1, 3, 2, 1]\n",
      "[1, 3, 2, 1]\n",
      "[0, 1, 2, 1, 3, 2, 1]\n",
      "[2, 1, 3, 2, 1]\n",
      "[1, 0, 2, 1, 3, 2, 1]\n",
      "[2, 1, 0, 2, 1, 3, 2, 1]\n",
      "[0, 1, 3, 2, 1]\n",
      "[1, 2, 1, 3, 2, 1]\n",
      "[3, 2, 1, 0, 2, 1, 3, 2, 1]\n"
     ]
    }
   ],
   "source": [
    "for elm in elms:\n",
    "    print(W.coxelmtoword(elm))\n"
   ]
  },
  {
   "cell_type": "markdown",
   "metadata": {},
   "source": [
    "确实是第 60 个 left cell 中所有元素"
   ]
  },
  {
   "cell_type": "markdown",
   "metadata": {},
   "source": [
    "选取任意 F4 Weyl Group 中元素，计算所在 left cell"
   ]
  },
  {
   "cell_type": "code",
   "execution_count": 9,
   "metadata": {},
   "outputs": [
    {
     "name": "stdout",
     "output_type": "stream",
     "text": [
      "[1, 2, 1, 0, 3, 2]\n",
      "[1, 0, 2]\n",
      "[2, 1, 0, 2]\n",
      "[0, 3, 2]\n",
      "[1, 0, 3, 2]\n",
      "[3, 2, 1, 0, 2]\n",
      "[0, 2]\n",
      "[2, 1, 0, 3, 2]\n",
      "[0, 1, 2, 1, 0, 3, 2]\n"
     ]
    }
   ],
   "source": [
    "w = [2, 1, 3, 0, 2]\n",
    "W.reducedword(w, W)\n",
    "elms = leftcellelm(W, w)['elms']\n",
    "for elm in elms:\n",
    "    print(W.coxelmtoword(elm))"
   ]
  },
  {
   "cell_type": "markdown",
   "metadata": {},
   "source": [
    "Chartable"
   ]
  },
  {
   "cell_type": "code",
   "execution_count": 10,
   "metadata": {},
   "outputs": [
    {
     "name": "stdout",
     "output_type": "stream",
     "text": [
      "dict_keys(['charnames', 'classnames', 'classlengths', 'classreps', 'b', 'a', 'irreducibles', 'position_id', 'position_sgn', 'position_refl', 'permsgn'])\n"
     ]
    }
   ],
   "source": [
    "char_table = chartable(W)\n",
    "print(char_table.keys())"
   ]
  },
  {
   "cell_type": "markdown",
   "metadata": {},
   "source": [
    "Test of Kl polynomials function (Explore two-sided cell)"
   ]
  },
  {
   "cell_type": "code",
   "execution_count": 11,
   "metadata": {},
   "outputs": [],
   "source": [
    "# kl_polynomials = klpolynomials(W, 1, v)\n",
    "# print(kl_polynomials['elms'])"
   ]
  },
  {
   "cell_type": "markdown",
   "metadata": {},
   "source": [
    "## Figure out the exact effect of generators"
   ]
  },
  {
   "cell_type": "code",
   "execution_count": 12,
   "metadata": {},
   "outputs": [
    {
     "data": {
      "text/plain": [
       "[(1, 0, 0, 0),\n",
       " (0, 1, 0, 0),\n",
       " (0, 0, 1, 0),\n",
       " (0, 0, 0, 1),\n",
       " (1, 1, 0, 0),\n",
       " (0, 1, 1, 0),\n",
       " (0, 0, 1, 1),\n",
       " (2, 1, 0, 0),\n",
       " (1, 1, 1, 0),\n",
       " (0, 1, 1, 1),\n",
       " (2, 1, 1, 0),\n",
       " (1, 1, 1, 1),\n",
       " (2, 2, 1, 0),\n",
       " (2, 1, 1, 1),\n",
       " (2, 2, 1, 1),\n",
       " (2, 2, 2, 1)]"
      ]
     },
     "execution_count": 12,
     "metadata": {},
     "output_type": "execute_result"
    }
   ],
   "source": [
    "W1 = coxeter('B', 4)\n",
    "W1.roots[:16]"
   ]
  },
  {
   "cell_type": "markdown",
   "metadata": {},
   "source": [
    "This does not correspond to root system we are familiar with. So we recreate the Coxeter system using Cartan matrix of B4, and take true basis into account."
   ]
  },
  {
   "cell_type": "code",
   "execution_count": 13,
   "metadata": {},
   "outputs": [
    {
     "data": {
      "text/plain": [
       "[(1, 0, 0, 0),\n",
       " (0, 1, 0, 0),\n",
       " (0, 0, 1, 0),\n",
       " (0, 0, 0, 1),\n",
       " (1, 1, 0, 0),\n",
       " (0, 1, 1, 0),\n",
       " (0, 0, 1, 1),\n",
       " (1, 1, 1, 0),\n",
       " (0, 1, 1, 1),\n",
       " (0, 0, 1, 2),\n",
       " (1, 1, 1, 1),\n",
       " (0, 1, 1, 2),\n",
       " (1, 1, 1, 2),\n",
       " (0, 1, 2, 2),\n",
       " (1, 1, 2, 2),\n",
       " (1, 2, 2, 2)]"
      ]
     },
     "execution_count": 13,
     "metadata": {},
     "output_type": "execute_result"
    }
   ],
   "source": [
    "import numpy as np\n",
    "W2 = coxeter([[2, -1, 0, 0], \n",
    "              [-1, 2, -1, 0], \n",
    "              [0, -1, 2, -1], \n",
    "              [0, 0, -2, 2]])\n",
    "W2.roots[:16] # original roots"
   ]
  },
  {
   "cell_type": "markdown",
   "metadata": {},
   "source": [
    "Taking basis (Simple roots) into account"
   ]
  },
  {
   "cell_type": "code",
   "execution_count": 14,
   "metadata": {},
   "outputs": [
    {
     "data": {
      "text/plain": [
       "array([[ 1, -1,  0,  0],\n",
       "       [ 0,  1, -1,  0],\n",
       "       [ 0,  0,  1, -1],\n",
       "       [ 0,  0,  0,  1],\n",
       "       [ 1,  0, -1,  0],\n",
       "       [ 0,  1,  0, -1],\n",
       "       [ 0,  0,  1,  0],\n",
       "       [ 1,  0,  0, -1],\n",
       "       [ 0,  1,  0,  0],\n",
       "       [ 0,  0,  1,  1],\n",
       "       [ 1,  0,  0,  0],\n",
       "       [ 0,  1,  0,  1],\n",
       "       [ 1,  0,  0,  1],\n",
       "       [ 0,  1,  1,  0],\n",
       "       [ 1,  0,  1,  0],\n",
       "       [ 1,  1,  0,  0]], dtype=int8)"
      ]
     },
     "execution_count": 14,
     "metadata": {},
     "output_type": "execute_result"
    }
   ],
   "source": [
    "def test_roots(basis, roots):\n",
    "    new_roots = []\n",
    "    for root in roots:\n",
    "        s = np.zeros(len(root))\n",
    "        for i in range(len(root)):\n",
    "            s += root[i] * basis[i]\n",
    "        new_roots.append(s)\n",
    "    return np.array(new_roots,dtype=np.int8)\n",
    "# B4 basis\n",
    "basis = np.array([[1,-1,0,0],\n",
    "                  [0,1,-1,0],\n",
    "                  [0,0,1,-1],\n",
    "                  [0,0,0,1]])\n",
    "test_roots(basis, W2.roots[:16])"
   ]
  },
  {
   "cell_type": "markdown",
   "metadata": {},
   "source": [
    "## Testing Coxeter Group Elements"
   ]
  },
  {
   "cell_type": "code",
   "execution_count": 15,
   "metadata": {},
   "outputs": [
    {
     "name": "stdout",
     "output_type": "stream",
     "text": [
      "The effect generator s_0\n",
      "Sending [ 1. -1.  0.  0.] to [-1.  1.  0.  0.]\n",
      "Sending [ 0.  1. -1.  0.] to [ 1.  0. -1.  0.]\n",
      "Sending [ 0.  0.  1. -1.] to [ 0.  0.  1. -1.]\n",
      "Sending [0. 0. 0. 1.] to [0. 0. 0. 1.]\n",
      "The effect generator s_1\n",
      "Sending [ 1. -1.  0.  0.] to [ 1.  0. -1.  0.]\n",
      "Sending [ 0.  1. -1.  0.] to [ 0. -1.  1.  0.]\n",
      "Sending [ 0.  0.  1. -1.] to [ 0.  1.  0. -1.]\n",
      "Sending [0. 0. 0. 1.] to [0. 0. 0. 1.]\n",
      "The effect generator s_2\n",
      "Sending [ 1. -1.  0.  0.] to [ 1. -1.  0.  0.]\n",
      "Sending [ 0.  1. -1.  0.] to [ 0.  1.  0. -1.]\n",
      "Sending [ 0.  0.  1. -1.] to [ 0.  0. -1.  1.]\n",
      "Sending [0. 0. 0. 1.] to [0. 0. 1. 0.]\n",
      "The effect generator s_3\n",
      "Sending [ 1. -1.  0.  0.] to [ 1. -1.  0.  0.]\n",
      "Sending [ 0.  1. -1.  0.] to [ 0.  1. -1.  0.]\n",
      "Sending [ 0.  0.  1. -1.] to [0. 0. 1. 1.]\n",
      "Sending [0. 0. 0. 1.] to [ 0.  0.  0. -1.]\n"
     ]
    }
   ],
   "source": [
    "def root_to_cord(basis_cord, root):\n",
    "    s = np.zeros(len(root))\n",
    "    for i in range(len(root)):\n",
    "        s += root[i] * basis[i]\n",
    "    return s\n",
    "\n",
    "for gen_index in range(4):\n",
    "    print(f\"The effect generator s_{gen_index}\")\n",
    "    cox_elm = W2.wordtocoxelm([gen_index])\n",
    "    for i in range(len(cox_elm)):\n",
    "        old_cord = root_to_cord(basis, W2.roots[i])\n",
    "        new_cord = root_to_cord(basis, W2.roots[cox_elm[i]])\n",
    "        print(f\"Sending {old_cord} to {new_cord}\")"
   ]
  },
  {
   "cell_type": "markdown",
   "metadata": {},
   "source": [
    "We can conclude that $s_0=(1,2)$, $s_1=(2,3)$, $s_2=(3,4)$, $s_3=(4,-4)$.\n",
    "Equivalently, $s_0=(2,1,3,4)$, $s_1=(1,3,2,4)$, $s_2=(1,2,4,3)$, $s_3=(1,2,3,-4)$"
   ]
  },
  {
   "cell_type": "markdown",
   "metadata": {},
   "source": [
    "Use lieToolbox to tackle signed perm computation"
   ]
  },
  {
   "cell_type": "code",
   "execution_count": 16,
   "metadata": {},
   "outputs": [
    {
     "name": "stdout",
     "output_type": "stream",
     "text": [
      "[0, 1, 2, 3, 2, 1, 0]\n",
      "[-1, 2, 3, 4] lieType: B\n",
      "[-1, 2, 3, 4] lieType: B\n",
      "[[3, 2], [3, -3], [2, -2], [4, -4]]\n",
      "[1, -3, -2, -4] lieType: B\n",
      "[[4, 1], [3, 2], [4, -4]]\n",
      "[0, 1, 0, 2, 1, 0, 3]\n"
     ]
    }
   ],
   "source": [
    "from weight import WeylGroupElement\n",
    "def word_to_weylgroupelm(word, len_n):\n",
    "    wg = WeylGroupElement(list(range(1,len_n+1)))\n",
    "    for s in word:\n",
    "        entry_next = list(range(1, len_n+1))\n",
    "        if s == len_n - 1:\n",
    "            entry_next[len_n-1] = -(len_n)\n",
    "        else:\n",
    "            entry_next[s], entry_next[s+1] = s+2, s+1\n",
    "        wg_next = WeylGroupElement(entry_next)\n",
    "        wg = wg * wg_next\n",
    "        #print(wg_next)\n",
    "    return wg\n",
    "\n",
    "def cycle_to_gen(cycle, max_num):\n",
    "    # represent (1,n) by (i, i+1) resursive\n",
    "    def twocycle_to_gen(p):\n",
    "        n = p[1]\n",
    "        if n <= 2:\n",
    "            return [0]\n",
    "        return twocycle_to_gen((1, n-1)) + [n-2] + twocycle_to_gen((1, n-1))\n",
    "    \n",
    "    prod = []\n",
    "    if len(cycle) == 2 and cycle[0] == -cycle[1]:\n",
    "        num = abs(cycle[0])\n",
    "        if num == max_num:\n",
    "            prod.append((max_num, -max_num))\n",
    "        elif num == 1:\n",
    "            prod.extend([(1, max_num), (max_num, -max_num), (1, max_num)])\n",
    "        else:\n",
    "            prod.extend([(1, num), (1, max_num), (1, num),\n",
    "                     (max_num, -max_num), \n",
    "                     (1, num), (1, max_num), (1, num)])\n",
    "            # print(prod)\n",
    "    else:\n",
    "        num0 = cycle[0]\n",
    "        if num0 == 1:\n",
    "            for num1 in cycle[1:]:\n",
    "                prod.append((1, num1))\n",
    "        else:\n",
    "            for num1 in cycle[1:]:\n",
    "                if num1 == 1:\n",
    "                    prod.append((1, num0))\n",
    "                elif num1 == num0 + 1 or num1 == num0 - 1:\n",
    "                    prod.append((num0, num1))\n",
    "                else:\n",
    "                    prod.extend([(1, num0), (1, num1), (1, num0)])\n",
    "    \n",
    "    # (1,n) to generators\n",
    "    new_prod = []\n",
    "    for cycle in prod:\n",
    "        if cycle[0] == cycle[1] + 1 or cycle[0] == cycle[1] - 1:\n",
    "            new_prod.append(min(cycle)-1)\n",
    "        elif cycle[0] + cycle[1] == 0:\n",
    "            new_prod.append(max_num-1)\n",
    "        else:\n",
    "            new_prod.extend(twocycle_to_gen(cycle))\n",
    "    \n",
    "    return new_prod\n",
    "\n",
    "\n",
    "def weylgroupelm_to_word(entry: list):\n",
    "    disjoint_cycles = []\n",
    "    n = len(entry)\n",
    "    entry0 = list(range(1, n+1))\n",
    "    \n",
    "    signed_term = []\n",
    "    for index in range(n):\n",
    "        num = entry[index]\n",
    "        if num < 0:\n",
    "            signed_term.append([-num, num])\n",
    "            entry[index] = -num\n",
    "        \n",
    "    # same procedure as symmetry group\n",
    "    while entry0:\n",
    "        # get a cycle\n",
    "        cycle = []\n",
    "        index = 0\n",
    "        index_list = [0]\n",
    "        cycle.append(entry[index])\n",
    "        while entry[entry0.index(entry[index])] != entry[0]:\n",
    "            index = entry0.index(entry[index])\n",
    "            index_list.append(index) # keep a list of index\n",
    "            cycle.append(entry[index])\n",
    "        # add the cycle to prod\n",
    "        if len(cycle) > 1:\n",
    "            disjoint_cycles.append(cycle)\n",
    "        # delete the cycle from entry\n",
    "        index_list.sort(reverse=True)\n",
    "        for index in index_list:\n",
    "            entry.pop(index)\n",
    "            entry0.pop(index)\n",
    "    \n",
    "    disjoint_cycles.extend(signed_term)\n",
    "    \n",
    "    # disjoint cycles to gen\n",
    "    prod = []\n",
    "    print(disjoint_cycles)\n",
    "    for cycle in disjoint_cycles:\n",
    "        prod.extend(cycle_to_gen(cycle, n))\n",
    "    # print(prod)\n",
    "    return W2.reducedword(prod, W2)\n",
    "\n",
    "word = [0, 1, 0, 2, 0, 1, 0, 3, 0, 1, 0, 2, 0, 1, 0]\n",
    "word_re = W2.reducedword(word, W2)\n",
    "print(word_re)\n",
    "print(word_to_weylgroupelm(word, 4))\n",
    "print(word_to_weylgroupelm(word_re, 4))\n",
    "print(word_to_weylgroupelm(weylgroupelm_to_word([1,-3,-2,-4]), 4))\n",
    "print(weylgroupelm_to_word(word_to_weylgroupelm([0,1,0,2,1,3,0], 4).entry))"
   ]
  },
  {
   "cell_type": "code",
   "execution_count": 17,
   "metadata": {},
   "outputs": [
    {
     "name": "stdout",
     "output_type": "stream",
     "text": [
      "5\n",
      "[-1, -2, 3] lieType: B\n",
      "[[1, -1], [2, -2]]\n",
      "[1, 2, 1, 0]\n",
      "{'size': 8, 'a': 3, 'character': [['[[2, 1], [1]]', 1]], 'special': '[[2, 1], [1]]', 'index': 15, 'elms': {(12, 31, 1, 6), (5, 12, 30, 6), (21, 15, 30, 6), (21, 1, 20, 10), (21, 1, 14, 26), (5, 18, 20, 10), (21, 16, 4, 6), (5, 18, 14, 26)}, 'distinv': '01210'}\n"
     ]
    }
   ],
   "source": [
    "from weight import Weight, HighestWeightModule\n",
    "lbd = Weight([-3.5, 2.5, 1.5], 'B')\n",
    "L = HighestWeightModule(lbd)\n",
    "gkdim0 = L.GKdim()\n",
    "print(gkdim0)\n",
    "lbd_antido = lbd.getAntidominant()\n",
    "wg = lbd.getWeylGroupElement(lbd, lbd_antido)\n",
    "print(wg)\n",
    "wd = weylgroupelm_to_word(wg.entry)\n",
    "print(wd)\n",
    "elms = leftcellelm(W2, wd)\n",
    "print(elms)\n"
   ]
  },
  {
   "cell_type": "code",
   "execution_count": 29,
   "metadata": {},
   "outputs": [
    {
     "name": "stdout",
     "output_type": "stream",
     "text": [
      "[0, 1, 2, 0, 3, 1, 2, 0, 3, 2, 4, 3, 1, 2, 0, 3, 2, 4, 3, 1, 5, 4, 3, 1, 2, 0, 3, 2, 4, 3, 1, 5, 4, 3, 2, 0]\n"
     ]
    }
   ],
   "source": [
    "WE6 = coxeter('E', 6)\n",
    "longest_perm = longestperm(WE6)\n",
    "longest_perm_as_wd = WE6.permtoword(longest_perm)\n",
    "print(longest_perm_as_wd)\n",
    "\n",
    "\n",
    "\n",
    "\n"
   ]
  },
  {
   "cell_type": "code",
   "execution_count": 36,
   "metadata": {},
   "outputs": [],
   "source": [
    "left_cell_infos = klcellreps(WE6)"
   ]
  },
  {
   "cell_type": "code",
   "execution_count": 41,
   "metadata": {},
   "outputs": [
    {
     "name": "stdout",
     "output_type": "stream",
     "text": [
      "Index: 13\n",
      "[0, 3, 1, 2, 0, 4, 5, 4, 3, 1, 2, 0, 3, 2, 4, 3, 1, 5, 4, 3]\n",
      "[1, 2, 0, 3, 1, 2, 3, 4, 3, 2, 5, 4, 3, 1, 2, 0, 3, 4, 5]\n",
      "[0, 1, 2, 0, 3, 2, 4, 3, 2, 5, 4, 3, 1, 2, 0, 3, 4, 5]\n",
      "[0, 1, 2, 0, 3, 2, 0, 4, 3, 1, 2, 0, 3, 4, 5, 4, 3, 1]\n",
      "[0, 1, 2, 3, 2, 4, 3, 1, 2, 0, 3, 4, 5, 4, 3, 1]\n",
      "[0, 3, 4, 3, 1, 2, 0, 5, 4, 3, 1, 2, 0, 3, 2, 4, 3, 1, 5, 4, 3]\n",
      "[2, 3, 2, 4, 3, 2, 5, 4, 3, 1, 2, 0, 3, 4, 5]\n",
      "[0, 2, 3, 1, 2, 0, 3, 4, 3, 1, 5, 4, 3, 1]\n",
      "[1, 2, 3, 2, 4, 3, 1, 2, 0, 3, 4, 5, 4, 3, 1]\n",
      "[0, 2, 0, 3, 2, 0, 4, 3, 1, 2, 0, 3, 4, 5, 4, 3, 1]\n",
      "[0, 1, 2, 0, 4, 5, 4, 3, 1, 2, 0, 3, 2, 4, 3, 1, 5, 4, 3]\n",
      "[1, 2, 0, 3, 1, 2, 0, 3, 2, 4, 3, 2, 5, 4, 3, 1, 2, 0, 3, 4, 5]\n",
      "[0, 1, 3, 1, 4, 3, 1, 5, 4, 3, 1]\n",
      "[0, 1, 3, 1, 2, 0, 4, 5, 4, 3, 1, 2, 0, 3, 2, 4, 3, 1, 5, 4, 3]\n",
      "[0, 1, 3, 1, 2, 0, 4, 3, 1, 2, 0, 3, 2, 4, 3, 1, 5, 4, 3, 1]\n",
      "[1, 3, 1, 2, 3, 4, 3, 1, 2, 0, 3, 4, 5, 4, 3, 1]\n",
      "[2, 0, 3, 1, 2, 0, 3, 2, 4, 3, 1, 2, 0, 3, 4, 5, 4, 3, 1]\n",
      "[0, 1, 3, 1, 2, 0, 3, 2, 4, 3, 1, 2, 0, 3, 4, 5, 4, 3, 1]\n",
      "[0, 1, 2, 0, 3, 2, 0, 4, 3, 2, 5, 4, 3, 1, 2, 0, 3, 4, 5]\n",
      "[0, 1, 3, 4, 3, 1, 2, 0, 3, 2, 4, 3, 5, 4, 3, 1, 2, 0, 3, 4, 5]\n",
      "[1, 2, 0, 3, 1, 2, 0, 4, 5, 4, 3, 1, 2, 0, 3, 2, 4, 3, 1, 5, 4, 3]\n",
      "[1, 2, 0, 3, 1, 4, 3, 1, 5, 4, 3, 1]\n",
      "[1, 2, 0, 3, 1, 2, 0, 4, 3, 1, 2, 0, 3, 2, 4, 3, 1, 5, 4, 3, 1]\n",
      "[0, 1, 3, 1, 2, 0, 3, 2, 4, 3, 2, 5, 4, 3, 1, 2, 0, 3, 4, 5]\n",
      "[2, 0, 3, 4, 3, 1, 2, 0, 3, 2, 4, 3, 5, 4, 3, 1, 2, 0, 3, 4, 5]\n",
      "[0, 2, 0, 3, 2, 4, 3, 2, 5, 4, 3, 1, 2, 0, 3, 4, 5]\n",
      "[0, 1, 2, 0, 3, 2, 4, 3, 1, 2, 0, 3, 4, 5, 4, 3, 1]\n",
      "[0, 1, 2, 0, 3, 1, 2, 0, 3, 2, 4, 3, 1, 5, 4, 3, 1]\n",
      "[1, 3, 1, 2, 3, 4, 3, 2, 5, 4, 3, 1, 2, 0, 3, 4, 5]\n",
      "[0, 2, 0, 3, 1, 2, 0, 3, 4, 3, 1, 5, 4, 3, 1]\n",
      "[0, 3, 4, 3, 1, 2, 0, 3, 2, 4, 3, 5, 4, 3, 1, 2, 0, 3, 4, 5]\n",
      "[0, 1, 3, 1, 2, 3, 4, 3, 2, 5, 4, 3, 1, 2, 0, 3, 4, 5]\n",
      "[0, 3, 1, 2, 0, 3, 2, 4, 3, 1, 2, 0, 3, 4, 5, 4, 3, 1]\n",
      "[2, 0, 3, 1, 2, 0, 4, 5, 4, 3, 1, 2, 0, 3, 2, 4, 3, 1, 5, 4, 3]\n",
      "[2, 0, 3, 1, 2, 0, 3, 2, 4, 3, 2, 5, 4, 3, 1, 2, 0, 3, 4, 5]\n",
      "[1, 2, 0, 3, 4, 3, 1, 2, 0, 5, 4, 3, 1, 2, 0, 3, 2, 4, 3, 1, 5, 4, 3]\n",
      "[3, 1, 2, 0, 3, 4, 3, 1, 2, 0, 5, 4, 3, 1, 2, 0, 3, 2, 4, 3, 1, 5, 4, 3]\n",
      "[0, 2, 3, 2, 4, 3, 2, 5, 4, 3, 1, 2, 0, 3, 4, 5]\n",
      "[0, 1, 2, 3, 2, 4, 3, 2, 5, 4, 3, 1, 2, 0, 3, 4, 5]\n",
      "[0, 1, 2, 0, 4, 3, 1, 2, 0, 3, 2, 4, 3, 1, 5, 4, 3, 1]\n",
      "[0, 1, 2, 0, 3, 1, 4, 3, 1, 5, 4, 3, 1]\n",
      "[2, 3, 2, 4, 3, 1, 2, 0, 3, 4, 5, 4, 3, 1]\n",
      "[0, 1, 3, 1, 2, 3, 4, 3, 1, 2, 0, 3, 4, 5, 4, 3, 1]\n",
      "[0, 3, 1, 2, 0, 3, 2, 4, 3, 2, 5, 4, 3, 1, 2, 0, 3, 4, 5]\n",
      "[0, 2, 0, 3, 2, 0, 4, 3, 2, 5, 4, 3, 1, 2, 0, 3, 4, 5]\n",
      "[0, 1, 2, 3, 1, 2, 0, 3, 4, 3, 1, 5, 4, 3, 1]\n",
      "[1, 2, 3, 2, 4, 3, 2, 5, 4, 3, 1, 2, 0, 3, 4, 5]\n",
      "[0, 1, 2, 0, 3, 1, 2, 0, 3, 4, 3, 1, 5, 4, 3, 1]\n",
      "[1, 2, 0, 3, 4, 3, 1, 2, 0, 3, 2, 4, 3, 5, 4, 3, 1, 2, 0, 3, 4, 5]\n",
      "[1, 2, 3, 1, 2, 0, 3, 4, 3, 1, 5, 4, 3, 1]\n",
      "[0, 1, 3, 4, 3, 1, 2, 0, 5, 4, 3, 1, 2, 0, 3, 2, 4, 3, 1, 5, 4, 3]\n",
      "[0, 3, 1, 2, 0, 4, 3, 1, 2, 0, 3, 2, 4, 3, 1, 5, 4, 3, 1]\n",
      "[2, 3, 1, 2, 0, 3, 4, 3, 1, 5, 4, 3, 1]\n",
      "[3, 1, 2, 0, 3, 4, 3, 1, 2, 0, 3, 2, 4, 3, 5, 4, 3, 1, 2, 0, 3, 4, 5]\n",
      "[1, 2, 0, 3, 1, 2, 3, 4, 3, 1, 2, 0, 3, 4, 5, 4, 3, 1]\n",
      "[2, 0, 3, 1, 2, 0, 4, 3, 1, 2, 0, 3, 2, 4, 3, 1, 5, 4, 3, 1]\n",
      "[0, 2, 0, 3, 2, 4, 3, 1, 2, 0, 3, 4, 5, 4, 3, 1]\n",
      "[0, 2, 3, 2, 4, 3, 1, 2, 0, 3, 4, 5, 4, 3, 1]\n",
      "[2, 0, 3, 4, 3, 1, 2, 0, 5, 4, 3, 1, 2, 0, 3, 2, 4, 3, 1, 5, 4, 3]\n",
      "[1, 2, 0, 3, 1, 2, 0, 3, 2, 4, 3, 1, 2, 0, 3, 4, 5, 4, 3, 1]\n"
     ]
    }
   ],
   "source": [
    "from chv1r6180 import *\n",
    "left_cell_infos = klcellreps(WE6)\n",
    "for left_cell_info in left_cell_infos:\n",
    "    if left_cell_info['a'] == 11:\n",
    "        print(f\"Index: {left_cell_info['index']}\")\n",
    "\n",
    "for elm in left_cell_infos[13]['elms']:\n",
    "    print(WE6.coxelmtoword(elm))"
   ]
  }
 ],
 "metadata": {
  "kernelspec": {
   "display_name": "Python 3",
   "language": "python",
   "name": "python3"
  },
  "language_info": {
   "codemirror_mode": {
    "name": "ipython",
    "version": 3
   },
   "file_extension": ".py",
   "mimetype": "text/x-python",
   "name": "python",
   "nbconvert_exporter": "python",
   "pygments_lexer": "ipython3",
   "version": "3.11.0"
  },
  "orig_nbformat": 4
 },
 "nbformat": 4,
 "nbformat_minor": 2
}
